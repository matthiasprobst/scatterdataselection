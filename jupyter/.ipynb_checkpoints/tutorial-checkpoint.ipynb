{
 "cells": [
  {
   "cell_type": "code",
   "execution_count": 1,
   "id": "2491543f-0136-43fa-9cff-511bf2fca241",
   "metadata": {},
   "outputs": [],
   "source": [
    "from scatterdataselection import notebook"
   ]
  },
  {
   "cell_type": "code",
   "execution_count": 2,
   "id": "2fe48d28-f403-4f13-aa22-812759c2c270",
   "metadata": {},
   "outputs": [],
   "source": [
    "import plotly.graph_objs as go\n",
    "import numpy as np\n",
    "import matplotlib.pyplot as plt"
   ]
  },
  {
   "cell_type": "code",
   "execution_count": 3,
   "id": "aefe6655-6168-4d94-9295-ecd12ad79d04",
   "metadata": {},
   "outputs": [],
   "source": [
    "import plotly.graph_objs as go\n",
    "import pandas as pd\n",
    "import numpy as np\n",
    "from ipywidgets import interactive, HBox, VBox\n",
    "from ipywidgets import widgets\n",
    "import matplotlib.pyplot as plt"
   ]
  },
  {
   "cell_type": "code",
   "execution_count": 4,
   "id": "69f40877-70c0-4e61-b412-7630cd352fd0",
   "metadata": {},
   "outputs": [],
   "source": [
    "x, y = np.random.random(100), np.random.random(100)"
   ]
  },
  {
   "cell_type": "code",
   "execution_count": 5,
   "id": "c225cbb5-c2d2-4c15-a8da-042238cce83e",
   "metadata": {},
   "outputs": [
    {
     "data": {
      "application/vnd.jupyter.widget-view+json": {
       "model_id": "6f0ca71fff094a22b07b3fa0139d657b",
       "version_major": 2,
       "version_minor": 0
      },
      "text/plain": [
       "VBox(children=(FigureWidget({\n",
       "    'data': [{'mode': 'markers',\n",
       "              'type': 'scatter',\n",
       "              …"
      ]
     },
     "metadata": {},
     "output_type": "display_data"
    }
   ],
   "source": [
    "s = notebook.ScatterSelection(x, y)\n",
    "s.scatter_selector()"
   ]
  },
  {
   "cell_type": "code",
   "execution_count": 7,
   "id": "dabc1ebd-b115-4ad5-a020-15263fcf24c1",
   "metadata": {},
   "outputs": [
    {
     "data": {
      "text/plain": [
       "<matplotlib.collections.PathCollection at 0x7f9cb8498eb0>"
      ]
     },
     "execution_count": 7,
     "metadata": {},
     "output_type": "execute_result"
    },
    {
     "data": {
      "image/png": "[encoded data removed]",
      "text/plain": [
       "<Figure size 432x288 with 1 Axes>"
      ]
     },
     "metadata": {
      "needs_background": "light"
     },
     "output_type": "display_data"
    }
   ],
   "source": [
    "plt.scatter(x, y)\n",
    "plt.scatter(x[s.selected_points], y[s.selected_points], color='r')"
   ]
  },
  {
   "cell_type": "code",
   "execution_count": null,
   "id": "983a2448-3f0f-4a89-a9eb-f1e72a77f6de",
   "metadata": {},
   "outputs": [],
   "source": []
  }
 ],
 "metadata": {
  "kernelspec": {
   "display_name": "Python 3",
   "language": "python",
   "name": "python3"
  },
  "language_info": {
   "codemirror_mode": {
    "name": "ipython",
    "version": 3
   },
   "file_extension": ".py",
   "mimetype": "text/x-python",
   "name": "python",
   "nbconvert_exporter": "python",
   "pygments_lexer": "ipython3",
   "version": "3.8.8"
  }
 },
 "nbformat": 4,
 "nbformat_minor": 5
}
