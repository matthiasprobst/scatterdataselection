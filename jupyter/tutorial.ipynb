{
 "cells": [
  {
   "cell_type": "code",
   "execution_count": null,
   "id": "2491543f-0136-43fa-9cff-511bf2fca241",
   "metadata": {},
   "outputs": [],
   "source": [
    "from scatterdataselection.notebook import ScatterSelection\n",
    "import numpy as np\n",
    "import matplotlib.pyplot as plt"
   ]
  },
  {
   "cell_type": "code",
   "execution_count": null,
   "id": "69f40877-70c0-4e61-b412-7630cd352fd0",
   "metadata": {},
   "outputs": [],
   "source": [
    "x, y = np.random.random(100), np.random.random(100)"
   ]
  },
  {
   "cell_type": "code",
   "execution_count": null,
   "id": "c225cbb5-c2d2-4c15-a8da-042238cce83e",
   "metadata": {},
   "outputs": [],
   "source": [
    "s = ScatterSelection(x, y)\n",
    "s.scatter_selector()"
   ]
  },
  {
   "cell_type": "code",
   "execution_count": null,
   "id": "dabc1ebd-b115-4ad5-a020-15263fcf24c1",
   "metadata": {},
   "outputs": [],
   "source": [
    "plt.scatter(x, y)\n",
    "plt.scatter(x[s.selected_points], y[s.selected_points], color='r')"
   ]
  },
  {
   "cell_type": "code",
   "execution_count": null,
   "id": "983a2448-3f0f-4a89-a9eb-f1e72a77f6de",
   "metadata": {},
   "outputs": [],
   "source": []
  },
  {
   "cell_type": "code",
   "execution_count": null,
   "id": "0c50e128-73c7-4d82-98a3-8299bd2010b9",
   "metadata": {},
   "outputs": [],
   "source": []
  }
 ],
 "metadata": {
  "kernelspec": {
   "display_name": "Python 3 (ipykernel)",
   "language": "python",
   "name": "python3"
  },
  "language_info": {
   "codemirror_mode": {
    "name": "ipython",
    "version": 3
   },
   "file_extension": ".py",
   "mimetype": "text/x-python",
   "name": "python",
   "nbconvert_exporter": "python",
   "pygments_lexer": "ipython3",
   "version": "3.7.9"
  }
 },
 "nbformat": 4,
 "nbformat_minor": 5
}
